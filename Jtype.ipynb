{
  "nbformat": 4,
  "nbformat_minor": 0,
  "metadata": {
    "colab": {
      "name": "Jtype.ipynb",
      "provenance": [],
      "include_colab_link": true
    },
    "kernelspec": {
      "name": "python3",
      "display_name": "Python 3"
    }
  },
  "cells": [
    {
      "cell_type": "markdown",
      "metadata": {
        "id": "view-in-github",
        "colab_type": "text"
      },
      "source": [
        "<a href=\"https://colab.research.google.com/github/johnsl01/Jtype/blob/master/Jtype.ipynb\" target=\"_parent\"><img src=\"https://colab.research.google.com/assets/colab-badge.svg\" alt=\"Open In Colab\"/></a>"
      ]
    },
    {
      "cell_type": "markdown",
      "metadata": {
        "id": "EW_Eg9QZVEUp",
        "colab_type": "text"
      },
      "source": [
        "Jtype is an attempt to produce a general purpose typing tool\n",
        "for use with python.\n",
        "\n",
        "The mainintent is to produce some additional information about \n",
        "the object passed - dependant on the type of the object.\n",
        "\n",
        "Such as value for numbers - length and content for strings. But with some\n",
        "logic to produce only top and tail for long strings.\n",
        "\n",
        "The target is to use the function during Machine Learning exercises. So there\n",
        "will be an initail concentration on the types that occur in a numpy stack (numpy, pandas, scipy, matplotlib).\n"
      ]
    },
    {
      "cell_type": "code",
      "metadata": {
        "id": "twtP6Cb3UrgX",
        "colab_type": "code",
        "colab": {}
      },
      "source": [
        "##################################\n",
        "#             IMPORTS            #\n",
        "##################################\n",
        "import numpy as np\n"
      ],
      "execution_count": 0,
      "outputs": []
    },
    {
      "cell_type": "markdown",
      "metadata": {
        "id": "rodAVsJ1WWrh",
        "colab_type": "text"
      },
      "source": [
        "Jtype function definition"
      ]
    },
    {
      "cell_type": "code",
      "metadata": {
        "id": "HkWRKwwlWdMO",
        "colab_type": "code",
        "colab": {}
      },
      "source": [
        "def jtype ( jobj) : \n",
        "  print (type (jobj))\n",
        "  print (type(type (jobj)))\n",
        "  print (\"\")\n",
        "  \n",
        "  \n",
        "# END DEF"
      ],
      "execution_count": 0,
      "outputs": []
    },
    {
      "cell_type": "markdown",
      "metadata": {
        "id": "sQM_60THW7qK",
        "colab_type": "text"
      },
      "source": [
        "Test Code"
      ]
    },
    {
      "cell_type": "code",
      "metadata": {
        "id": "9_yUTXK5W-9p",
        "colab_type": "code",
        "colab": {}
      },
      "source": [
        "anumber = 1 \n",
        "jtype(anumber)\n",
        "astring = \"This is a String\"\n",
        "jtype(astring)"
      ],
      "execution_count": 0,
      "outputs": []
    }
  ]
}